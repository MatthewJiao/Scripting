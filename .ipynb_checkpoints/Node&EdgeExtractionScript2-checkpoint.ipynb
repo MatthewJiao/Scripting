{
 "cells": [
  {
   "cell_type": "code",
   "execution_count": 2,
   "metadata": {},
   "outputs": [
    {
     "ename": "RuntimeError",
     "evalue": "Open failed for 'data.osm': The system cannot find the file specified.",
     "output_type": "error",
     "traceback": [
      "\u001b[1;31m---------------------------------------------------------------------------\u001b[0m",
      "\u001b[1;31mRuntimeError\u001b[0m                              Traceback (most recent call last)",
      "\u001b[1;32m<ipython-input-2-e33da66bea7d>\u001b[0m in \u001b[0;36m<module>\u001b[1;34m\u001b[0m\n\u001b[0;32m     37\u001b[0m \u001b[1;33m\u001b[0m\u001b[0m\n\u001b[0;32m     38\u001b[0m \u001b[0mtlhandler\u001b[0m \u001b[1;33m=\u001b[0m \u001b[0mTimelineHandler\u001b[0m\u001b[1;33m(\u001b[0m\u001b[1;33m)\u001b[0m\u001b[1;33m\u001b[0m\u001b[1;33m\u001b[0m\u001b[0m\n\u001b[1;32m---> 39\u001b[1;33m \u001b[0mtlhandler\u001b[0m\u001b[1;33m.\u001b[0m\u001b[0mapply_file\u001b[0m\u001b[1;33m(\u001b[0m\u001b[1;34m\"data.osm\"\u001b[0m\u001b[1;33m,\u001b[0m \u001b[0mlocations\u001b[0m\u001b[1;33m=\u001b[0m\u001b[1;32mTrue\u001b[0m\u001b[1;33m)\u001b[0m\u001b[1;33m\u001b[0m\u001b[1;33m\u001b[0m\u001b[0m\n\u001b[0m\u001b[0;32m     40\u001b[0m \u001b[1;33m\u001b[0m\u001b[0m\n\u001b[0;32m     41\u001b[0m \u001b[0mcolnames_nodes\u001b[0m \u001b[1;33m=\u001b[0m \u001b[1;33m[\u001b[0m\u001b[1;34m'type'\u001b[0m\u001b[1;33m,\u001b[0m \u001b[1;34m'id'\u001b[0m\u001b[1;33m,\u001b[0m \u001b[1;34m'lat'\u001b[0m\u001b[1;33m,\u001b[0m \u001b[1;34m'lon'\u001b[0m\u001b[1;33m,\u001b[0m \u001b[1;34m'intersection_type'\u001b[0m\u001b[1;33m]\u001b[0m\u001b[1;33m\u001b[0m\u001b[1;33m\u001b[0m\u001b[0m\n",
      "\u001b[1;31mRuntimeError\u001b[0m: Open failed for 'data.osm': The system cannot find the file specified."
     ]
    }
   ],
   "source": [
    "import osmium as osm\n",
    "import pandas as pd\n",
    "import numpy as np\n",
    "from math import cos, asin, sqrt, pi\n",
    "\n",
    "\n",
    "\n",
    "class TimelineHandler(osm.SimpleHandler):\n",
    "    def __init__(self):\n",
    "        osm.SimpleHandler.__init__(self)\n",
    "        self.nodes = []\n",
    "        self.ways = []\n",
    "\n",
    "\n",
    "    def node(self, n):\n",
    "        self.nodes.append(['node',\n",
    "                                  n.id,\n",
    "                                  n.location.lat,\n",
    "                                  n.location.lon,\n",
    "                                  n.tags.get('intersection_type')\n",
    "                                 ])\n",
    "    def way(self, w):\n",
    "        temp = ''\n",
    "        for index, ref in enumerate(w.nodes):\n",
    "            if(index!=len(w.nodes)-1):\n",
    "                temp += str(ref)+','\n",
    "            else:\n",
    "                temp += str(ref)\n",
    "                \n",
    "        self.ways.append(['way',\n",
    "                          w.id,\n",
    "                          temp,\n",
    "                          w.tags.get('name')\n",
    "            \n",
    "        ])\n",
    "\n",
    "\n",
    "tlhandler = TimelineHandler()\n",
    "tlhandler.apply_file(\"data.osm\", locations=True)\n",
    "\n",
    "colnames_nodes = ['type', 'id', 'lat', 'lon', 'intersection_type']\n",
    "colnames_ways = ['type', 'id', 'node_list', 'name']\n",
    "nodes = pd.DataFrame(tlhandler.nodes, columns=colnames_nodes)\n",
    "ways = pd.DataFrame(tlhandler.ways, columns=colnames_ways)\n",
    "#elements = elements.sort_values(by=['id'])\n",
    "\n",
    "\n",
    "\n",
    "\n"
   ]
  },
  {
   "cell_type": "code",
   "execution_count": null,
   "metadata": {},
   "outputs": [],
   "source": [
    "nodes.head(10)"
   ]
  },
  {
   "cell_type": "code",
   "execution_count": null,
   "metadata": {},
   "outputs": [],
   "source": [
    "ways.head(100)\n"
   ]
  },
  {
   "cell_type": "code",
   "execution_count": null,
   "metadata": {},
   "outputs": [],
   "source": [
    "class my_dictionary(dict): \n",
    "  \n",
    "    def __init__(self): \n",
    "        self = dict() \n",
    "          \n",
    "    def add(self, key, value): \n",
    "        self[key] = value \n",
    "  \n",
    "keys = my_dictionary() \n",
    "  \n",
    "for index in range(len(nodes)):\n",
    "    keys.add(str(nodes.loc[index,'id']),[nodes.loc[index,'lat'],nodes.loc[index,'lon']])\n",
    "\n",
    "    \n",
    "    \n",
    "    "
   ]
  },
  {
   "cell_type": "code",
   "execution_count": null,
   "metadata": {},
   "outputs": [],
   "source": [
    "def distance(lat1, lon1, lat2, lon2):\n",
    "    p = pi/180\n",
    "    a = 0.5 - cos((lat2-lat1)*p)/2 + cos(lat1*p) * cos(lat2*p) * (1-cos((lon2-lon1)*p))/2\n",
    "    return 12742 * asin(sqrt(a))*1000\n",
    "\n",
    "\n"
   ]
  },
  {
   "cell_type": "code",
   "execution_count": null,
   "metadata": {},
   "outputs": [],
   "source": [
    "for index in range(len(ways)):\n",
    "    nodeList = ways.loc[index,'node_list'].split(',')\n",
    "    dist = []\n",
    "    for x in range(len(nodeList)-1):\n",
    "        dist.append([nodeList[x],nodeList[x+1],distance(keys[nodeList[x]][0],keys[nodeList[x]][1],keys[nodeList[x+1]][0],keys[nodeList[x+1]][1]),ways.loc[index,'name']])\n",
    "    \n",
    "    if(index == 0):\n",
    "        edges = dist\n",
    "    else:\n",
    "        edges = np.concatenate((edges, dist))\n",
    "    \n",
    "\n",
    "    \n",
    "    \n",
    "    "
   ]
  },
  {
   "cell_type": "code",
   "execution_count": null,
   "metadata": {},
   "outputs": [],
   "source": [
    "\n",
    "dataFrame = pd.DataFrame({\n",
    "    \"from_id\": edges[:,0],\n",
    "    \"to_id\": edges[:,1],\n",
    "    \"weight\": edges[:,2],\n",
    "    \"colinear\": edges[:,3]\n",
    "})\n",
    "\n",
    "dataFrame.head(100)\n",
    "\n",
    "\n"
   ]
  },
  {
   "cell_type": "code",
   "execution_count": null,
   "metadata": {},
   "outputs": [],
   "source": [
    "nodes.head(100)"
   ]
  },
  {
   "cell_type": "code",
   "execution_count": null,
   "metadata": {},
   "outputs": [],
   "source": []
  }
 ],
 "metadata": {
  "kernelspec": {
   "display_name": "Python 3",
   "language": "python",
   "name": "python3"
  },
  "language_info": {
   "codemirror_mode": {
    "name": "ipython",
    "version": 3
   },
   "file_extension": ".py",
   "mimetype": "text/x-python",
   "name": "python",
   "nbconvert_exporter": "python",
   "pygments_lexer": "ipython3",
   "version": "3.7.6"
  }
 },
 "nbformat": 4,
 "nbformat_minor": 4
}
