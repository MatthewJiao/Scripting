{
 "cells": [
  {
   "cell_type": "code",
   "execution_count": 100,
   "metadata": {},
   "outputs": [],
   "source": [
    "import psycopg2\n",
    "from math import cos, asin, sqrt, pi\n",
    "import pandas as pd\n",
    "\n",
    "\n",
    "connection = psycopg2.connect(\n",
    "    user=user,\n",
    "    password=password,\n",
    "    host=endpoint,\n",
    "    port=port,\n",
    "    database=\"airmatrix\")\n",
    "\n",
    "cursor = connection.cursor()\n",
    "\n",
    "query = \"create table mission_features(mission_id int, x_distance int, intersections int);\"\n",
    "cursor.execute(query)\n",
    "\n",
    "#drop = \"drop table mission_features\"\n",
    "#cursor.execute(drop)\n",
    "#connection.commit()\n",
    "\n"
   ]
  },
  {
   "cell_type": "code",
   "execution_count": 101,
   "metadata": {},
   "outputs": [],
   "source": [
    "data=pd.read_csv('training_data.csv')\n",
    "data = data.to_numpy()\n",
    "\n",
    "\n"
   ]
  },
  {
   "cell_type": "code",
   "execution_count": 102,
   "metadata": {},
   "outputs": [],
   "source": [
    "for index, r in enumerate(data):\n",
    "    query = f\"insert into mission_features (mission_id,x_distance,intersections) values ({r[0]},{r[1]},{r[2]})\"\n",
    "    cursor.execute(query)\n",
    "\n",
    "connection.commit()\n",
    "\n",
    "\n",
    "\n",
    "\n"
   ]
  },
  {
   "cell_type": "code",
   "execution_count": 103,
   "metadata": {},
   "outputs": [],
   "source": [
    "cursor.close()\n",
    "connection.close()"
   ]
  },
  {
   "cell_type": "code",
   "execution_count": null,
   "metadata": {},
   "outputs": [],
   "source": []
  }
 ],
 "metadata": {
  "kernelspec": {
   "display_name": "Python 3",
   "language": "python",
   "name": "python3"
  },
  "language_info": {
   "codemirror_mode": {
    "name": "ipython",
    "version": 3
   },
   "file_extension": ".py",
   "mimetype": "text/x-python",
   "name": "python",
   "nbconvert_exporter": "python",
   "pygments_lexer": "ipython3",
   "version": "3.7.6"
  }
 },
 "nbformat": 4,
 "nbformat_minor": 4
}
